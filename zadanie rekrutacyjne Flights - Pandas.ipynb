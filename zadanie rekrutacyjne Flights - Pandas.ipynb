{
 "cells": [
  {
   "cell_type": "markdown",
   "id": "2f0fbae7",
   "metadata": {},
   "source": [
    "Zadanie #2 \n",
    "\n",
    "1. Korzystając z biblioteki sqlite3 utwórz nową bazę danych z tabelą FlightLeg, która będzie zawierała informację o lotach samolotów, z następującymi kolumnami: \n",
    "\n",
    "id — identyfikator numeryczny nadawany z sekwencji \n",
    "\n",
    "tailNumber — identyfikator samolotu \n",
    "\n",
    "sourceAirportCode, destinationAirportCode — trzyliterowy kod lotniska (wg IATA) \n",
    "\n",
    "sourceCountryCode, destinationCountryCode — trzyliterowy kod kraju (wg ISO 3166-1 Alpha-3) \n",
    "\n",
    "departureTimeUtc, landingTimeUtc — data i czas (z dokładnością do sekundy) odpowiednio odlotu i lądowania samolotu (w UTC) \n",
    "\n",
    "2. Wypełnij tabelę FlightLeg danymi z pliku: https://bitpeak.pl/datasets/flightlegs.csv"
   ]
  },
  {
   "cell_type": "code",
   "execution_count": 1,
   "id": "4f651347",
   "metadata": {},
   "outputs": [],
   "source": [
    "import pandas as pd\n",
    "import numpy as np"
   ]
  },
  {
   "cell_type": "code",
   "execution_count": 2,
   "id": "fd2bf8da",
   "metadata": {},
   "outputs": [
    {
     "data": {
      "text/html": [
       "<div>\n",
       "<style scoped>\n",
       "    .dataframe tbody tr th:only-of-type {\n",
       "        vertical-align: middle;\n",
       "    }\n",
       "\n",
       "    .dataframe tbody tr th {\n",
       "        vertical-align: top;\n",
       "    }\n",
       "\n",
       "    .dataframe thead th {\n",
       "        text-align: right;\n",
       "    }\n",
       "</style>\n",
       "<table border=\"1\" class=\"dataframe\">\n",
       "  <thead>\n",
       "    <tr style=\"text-align: right;\">\n",
       "      <th></th>\n",
       "      <th>tailNumber</th>\n",
       "      <th>source_airport_code</th>\n",
       "      <th>source_country_code</th>\n",
       "      <th>destination_airport_code</th>\n",
       "      <th>destination_country_code</th>\n",
       "      <th>departure_time</th>\n",
       "      <th>landing_time</th>\n",
       "    </tr>\n",
       "  </thead>\n",
       "  <tbody>\n",
       "    <tr>\n",
       "      <th>0</th>\n",
       "      <td>A6-EUC</td>\n",
       "      <td>DXB</td>\n",
       "      <td>ARE</td>\n",
       "      <td>CAI</td>\n",
       "      <td>EGY</td>\n",
       "      <td>2021-11-30 04:47:00</td>\n",
       "      <td>2021-11-30 08:25:00</td>\n",
       "    </tr>\n",
       "    <tr>\n",
       "      <th>1</th>\n",
       "      <td>A6-ENE</td>\n",
       "      <td>ACC</td>\n",
       "      <td>GHA</td>\n",
       "      <td>ABJ</td>\n",
       "      <td>CIV</td>\n",
       "      <td>2021-11-29 13:35:00</td>\n",
       "      <td>2021-11-29 14:17:00</td>\n",
       "    </tr>\n",
       "    <tr>\n",
       "      <th>2</th>\n",
       "      <td>A6-END</td>\n",
       "      <td>DXB</td>\n",
       "      <td>ARE</td>\n",
       "      <td>MNL</td>\n",
       "      <td>PHL</td>\n",
       "      <td>2021-11-27 23:50:11</td>\n",
       "      <td>2021-11-28 07:58:00</td>\n",
       "    </tr>\n",
       "    <tr>\n",
       "      <th>3</th>\n",
       "      <td>A6-EPD</td>\n",
       "      <td>IST</td>\n",
       "      <td>TUR</td>\n",
       "      <td>DXB</td>\n",
       "      <td>ARE</td>\n",
       "      <td>2021-11-28 17:51:53</td>\n",
       "      <td>2021-11-28 21:31:00</td>\n",
       "    </tr>\n",
       "    <tr>\n",
       "      <th>4</th>\n",
       "      <td>A6-EUU</td>\n",
       "      <td>JED</td>\n",
       "      <td>SAU</td>\n",
       "      <td>DXB</td>\n",
       "      <td>ARE</td>\n",
       "      <td>2021-11-28 08:53:00</td>\n",
       "      <td>2021-11-28 11:10:00</td>\n",
       "    </tr>\n",
       "  </tbody>\n",
       "</table>\n",
       "</div>"
      ],
      "text/plain": [
       "  tailNumber source_airport_code source_country_code destination_airport_code  \\\n",
       "0     A6-EUC                 DXB                 ARE                      CAI   \n",
       "1     A6-ENE                 ACC                 GHA                      ABJ   \n",
       "2     A6-END                 DXB                 ARE                      MNL   \n",
       "3     A6-EPD                 IST                 TUR                      DXB   \n",
       "4     A6-EUU                 JED                 SAU                      DXB   \n",
       "\n",
       "  destination_country_code       departure_time         landing_time  \n",
       "0                      EGY  2021-11-30 04:47:00  2021-11-30 08:25:00  \n",
       "1                      CIV  2021-11-29 13:35:00  2021-11-29 14:17:00  \n",
       "2                      PHL  2021-11-27 23:50:11  2021-11-28 07:58:00  \n",
       "3                      ARE  2021-11-28 17:51:53  2021-11-28 21:31:00  \n",
       "4                      ARE  2021-11-28 08:53:00  2021-11-28 11:10:00  "
      ]
     },
     "execution_count": 2,
     "metadata": {},
     "output_type": "execute_result"
    }
   ],
   "source": [
    "df = pd.read_csv('flightlegs.csv',\n",
    "                 sep=';'\n",
    "                )\n",
    "df.head()"
   ]
  },
  {
   "cell_type": "code",
   "execution_count": null,
   "id": "f6df385d",
   "metadata": {},
   "outputs": [],
   "source": []
  },
  {
   "cell_type": "code",
   "execution_count": 3,
   "id": "dfd5138e",
   "metadata": {},
   "outputs": [
    {
     "data": {
      "text/html": [
       "<div>\n",
       "<style scoped>\n",
       "    .dataframe tbody tr th:only-of-type {\n",
       "        vertical-align: middle;\n",
       "    }\n",
       "\n",
       "    .dataframe tbody tr th {\n",
       "        vertical-align: top;\n",
       "    }\n",
       "\n",
       "    .dataframe thead th {\n",
       "        text-align: right;\n",
       "    }\n",
       "</style>\n",
       "<table border=\"1\" class=\"dataframe\">\n",
       "  <thead>\n",
       "    <tr style=\"text-align: right;\">\n",
       "      <th></th>\n",
       "      <th>id</th>\n",
       "      <th>tailNumber</th>\n",
       "      <th>source_airport_code</th>\n",
       "      <th>source_country_code</th>\n",
       "      <th>destination_airport_code</th>\n",
       "      <th>destination_country_code</th>\n",
       "      <th>departure_time</th>\n",
       "      <th>landing_time</th>\n",
       "    </tr>\n",
       "  </thead>\n",
       "  <tbody>\n",
       "    <tr>\n",
       "      <th>0</th>\n",
       "      <td>0</td>\n",
       "      <td>A6-EUC</td>\n",
       "      <td>DXB</td>\n",
       "      <td>ARE</td>\n",
       "      <td>CAI</td>\n",
       "      <td>EGY</td>\n",
       "      <td>2021-11-30 04:47:00</td>\n",
       "      <td>2021-11-30 08:25:00</td>\n",
       "    </tr>\n",
       "    <tr>\n",
       "      <th>1</th>\n",
       "      <td>1</td>\n",
       "      <td>A6-ENE</td>\n",
       "      <td>ACC</td>\n",
       "      <td>GHA</td>\n",
       "      <td>ABJ</td>\n",
       "      <td>CIV</td>\n",
       "      <td>2021-11-29 13:35:00</td>\n",
       "      <td>2021-11-29 14:17:00</td>\n",
       "    </tr>\n",
       "    <tr>\n",
       "      <th>2</th>\n",
       "      <td>2</td>\n",
       "      <td>A6-END</td>\n",
       "      <td>DXB</td>\n",
       "      <td>ARE</td>\n",
       "      <td>MNL</td>\n",
       "      <td>PHL</td>\n",
       "      <td>2021-11-27 23:50:11</td>\n",
       "      <td>2021-11-28 07:58:00</td>\n",
       "    </tr>\n",
       "    <tr>\n",
       "      <th>3</th>\n",
       "      <td>3</td>\n",
       "      <td>A6-EPD</td>\n",
       "      <td>IST</td>\n",
       "      <td>TUR</td>\n",
       "      <td>DXB</td>\n",
       "      <td>ARE</td>\n",
       "      <td>2021-11-28 17:51:53</td>\n",
       "      <td>2021-11-28 21:31:00</td>\n",
       "    </tr>\n",
       "    <tr>\n",
       "      <th>4</th>\n",
       "      <td>4</td>\n",
       "      <td>A6-EUU</td>\n",
       "      <td>JED</td>\n",
       "      <td>SAU</td>\n",
       "      <td>DXB</td>\n",
       "      <td>ARE</td>\n",
       "      <td>2021-11-28 08:53:00</td>\n",
       "      <td>2021-11-28 11:10:00</td>\n",
       "    </tr>\n",
       "  </tbody>\n",
       "</table>\n",
       "</div>"
      ],
      "text/plain": [
       "   id tailNumber source_airport_code source_country_code  \\\n",
       "0   0     A6-EUC                 DXB                 ARE   \n",
       "1   1     A6-ENE                 ACC                 GHA   \n",
       "2   2     A6-END                 DXB                 ARE   \n",
       "3   3     A6-EPD                 IST                 TUR   \n",
       "4   4     A6-EUU                 JED                 SAU   \n",
       "\n",
       "  destination_airport_code destination_country_code       departure_time  \\\n",
       "0                      CAI                      EGY  2021-11-30 04:47:00   \n",
       "1                      ABJ                      CIV  2021-11-29 13:35:00   \n",
       "2                      MNL                      PHL  2021-11-27 23:50:11   \n",
       "3                      DXB                      ARE  2021-11-28 17:51:53   \n",
       "4                      DXB                      ARE  2021-11-28 08:53:00   \n",
       "\n",
       "          landing_time  \n",
       "0  2021-11-30 08:25:00  \n",
       "1  2021-11-29 14:17:00  \n",
       "2  2021-11-28 07:58:00  \n",
       "3  2021-11-28 21:31:00  \n",
       "4  2021-11-28 11:10:00  "
      ]
     },
     "execution_count": 3,
     "metadata": {},
     "output_type": "execute_result"
    }
   ],
   "source": [
    "#adding id column manually \n",
    "df.insert(0, 'id', df.index)\n",
    "df.head()"
   ]
  },
  {
   "cell_type": "markdown",
   "id": "38298fe1",
   "metadata": {},
   "source": [
    "3. Dodaj do tabeli dwie nowe kolumny: \n",
    "\n",
    "flightDuration — wypełnij ją wartościami określającymi czas trwania lotu w minutach (zaokrągl wartości do najbliższej liczby całkowitej) \n",
    "\n",
    "flightType — wypełnij ją wartościami określającymi typ lotu: krajowy (wartość ‘D’ = domestic) lub zagraniczny (wartość ‘I’ = international); lot krajowy to lot zaczynający się i kończący w tym samym kraju "
   ]
  },
  {
   "cell_type": "code",
   "execution_count": 4,
   "id": "91c657ee",
   "metadata": {},
   "outputs": [],
   "source": [
    "#changing string objects into datetime objects\n",
    "df['departure_time'] =  pd.to_datetime(df['departure_time'])\n",
    "df['landing_time'] =  pd.to_datetime(df['landing_time'])\n",
    "\n",
    "#calculating delta and converting it into minutes (rounded value)\n",
    "df['flightDuration'] = df['landing_time']-df['departure_time']\n",
    "\n",
    "df['flightDuration'] = df['flightDuration'].apply(lambda td: round(td.seconds/60))"
   ]
  },
  {
   "cell_type": "code",
   "execution_count": 5,
   "id": "c4e83b7e",
   "metadata": {},
   "outputs": [],
   "source": [
    "def dom_or_int(source,destination):\n",
    "    if source == destination:\n",
    "        return 'D'\n",
    "    else:\n",
    "        return 'I'"
   ]
  },
  {
   "cell_type": "code",
   "execution_count": 6,
   "id": "3e85bf29",
   "metadata": {},
   "outputs": [],
   "source": [
    "df['flightType'] = df.apply(lambda x: dom_or_int(x.source_country_code, x.destination_country_code), axis=1)"
   ]
  },
  {
   "cell_type": "markdown",
   "id": "6df6fa58",
   "metadata": {},
   "source": [
    "4. Zaimplementuj logikę odpowiadającą na poniższe pytania: \n",
    "\n",
    "    Który samolot wykonał najwięcej lotów? \n",
    "\n",
    "    Który samolot przeleciał najwięcej minut? \n",
    "\n",
    "    Który lot, w podziale na krajowe i zagraniczne, był najkrótszy, a który najdłuższy, i ile minut trwał? \n",
    "\n",
    "    (punkt opcjonalny) Ile jest błędnych rekordów opisujących loty, które wskazują, że samolot wykonywał więcej niż jeden lot jednocześnie? Wyświetl wszystkie pary takich konfliktowych lotów. \n",
    "\n",
    "    (punkt opcjonalny) Odstęp pomiędzy którymi lotami tego samego dowolnego samolotu był najkrótszy i ile minut trwał? \n",
    "\n",
    "    Uwaga: Lot identyfikowany jest przez parę wartości tailNumber oraz departureTimeUtc. "
   ]
  },
  {
   "cell_type": "code",
   "execution_count": 7,
   "id": "aa828ead",
   "metadata": {},
   "outputs": [
    {
     "data": {
      "text/plain": [
       "'A6-ENS'"
      ]
     },
     "execution_count": 7,
     "metadata": {},
     "output_type": "execute_result"
    }
   ],
   "source": [
    "# 1 Który samolot wykonał najwięcej lotów?\n",
    "\n",
    "df['tailNumber'].value_counts().idxmax()"
   ]
  },
  {
   "cell_type": "code",
   "execution_count": null,
   "id": "1dfabe53",
   "metadata": {},
   "outputs": [],
   "source": []
  },
  {
   "cell_type": "code",
   "execution_count": 8,
   "id": "bbfd0ec2",
   "metadata": {},
   "outputs": [
    {
     "data": {
      "text/plain": [
       "'A6-EVF'"
      ]
     },
     "execution_count": 8,
     "metadata": {},
     "output_type": "execute_result"
    }
   ],
   "source": [
    "# 2 Który samolot przeleciał najwięcej minut?\n",
    "\n",
    "df.groupby('tailNumber').sum()['flightDuration'].idxmax()"
   ]
  },
  {
   "cell_type": "code",
   "execution_count": null,
   "id": "e4a85431",
   "metadata": {},
   "outputs": [],
   "source": []
  },
  {
   "cell_type": "code",
   "execution_count": 9,
   "id": "0070930d",
   "metadata": {},
   "outputs": [],
   "source": [
    "# 3 Który lot, w podziale na krajowe i zagraniczne, był najkrótszy, a który najdłuższy, i ile minut trwał?"
   ]
  },
  {
   "cell_type": "code",
   "execution_count": 10,
   "id": "8154a3d6",
   "metadata": {
    "scrolled": true
   },
   "outputs": [
    {
     "name": "stdout",
     "output_type": "stream",
     "text": [
      "najkrótszy krajowy lot\n",
      "tailNumber:  A6-ECH\n",
      "departure_time  2021-11-30 09:32:00\n",
      "czas trwania w minutach:  61\n"
     ]
    }
   ],
   "source": [
    "print('najkrótszy krajowy lot')\n",
    "print('tailNumber: ',df[df['flightType']=='D'].sort_values(by='flightDuration',ascending=True).iloc[0]['tailNumber'])\n",
    "print('departure_time ',df[df['flightType']=='D'].sort_values(by='flightDuration',ascending=True).iloc[0]['departure_time'])\n",
    "print('czas trwania w minutach: ', df[df['flightType']=='D'].sort_values(by='flightDuration',ascending=True).iloc[0]['flightDuration'])"
   ]
  },
  {
   "cell_type": "code",
   "execution_count": 11,
   "id": "a466e60c",
   "metadata": {},
   "outputs": [
    {
     "name": "stdout",
     "output_type": "stream",
     "text": [
      "najdłuższy krajowy lot\n",
      "tailNumber:  A6-EES\n",
      "departure_time  2021-11-30 09:20:00\n",
      "czas trwania w minutach:  126\n"
     ]
    }
   ],
   "source": [
    "print('najdłuższy krajowy lot')\n",
    "print('tailNumber: ',df[df['flightType']=='D'].sort_values(by='flightDuration',ascending=False).iloc[0]['tailNumber'])\n",
    "print('departure_time ',df[df['flightType']=='D'].sort_values(by='flightDuration',ascending=False).iloc[0]['departure_time'])\n",
    "print('czas trwania w minutach: ', df[df['flightType']=='D'].sort_values(by='flightDuration',ascending=False).iloc[0]['flightDuration'])"
   ]
  },
  {
   "cell_type": "code",
   "execution_count": null,
   "id": "f49704e0",
   "metadata": {},
   "outputs": [],
   "source": []
  },
  {
   "cell_type": "code",
   "execution_count": 12,
   "id": "317111df",
   "metadata": {},
   "outputs": [
    {
     "name": "stdout",
     "output_type": "stream",
     "text": [
      "najkrótszy międzynarodowy lot\n",
      "tailNumber:  A6-ENE\n",
      "departure_time  2021-11-29 13:35:00\n",
      "czas trwania w minutach:  42\n"
     ]
    }
   ],
   "source": [
    "print('najkrótszy międzynarodowy lot')\n",
    "print('tailNumber: ',df[df['flightType']=='I'].sort_values(by='flightDuration',ascending=True).iloc[0]['tailNumber'])\n",
    "print('departure_time ',df[df['flightType']=='I'].sort_values(by='flightDuration',ascending=True).iloc[0]['departure_time'])\n",
    "print('czas trwania w minutach: ', df[df['flightType']=='I'].sort_values(by='flightDuration',ascending=True).iloc[0]['flightDuration'])\n"
   ]
  },
  {
   "cell_type": "code",
   "execution_count": null,
   "id": "23701a29",
   "metadata": {},
   "outputs": [],
   "source": []
  },
  {
   "cell_type": "code",
   "execution_count": 13,
   "id": "fb7711c6",
   "metadata": {},
   "outputs": [
    {
     "name": "stdout",
     "output_type": "stream",
     "text": [
      "najdłuższy międzynarodowy lot\n",
      "tailNumber:  A6-EWH\n",
      "departure_time  2021-11-29 06:32:00\n",
      "czas trwania w minutach:  966\n"
     ]
    }
   ],
   "source": [
    "print('najdłuższy międzynarodowy lot')\n",
    "print('tailNumber: ',df[df['flightType']=='I'].sort_values(by='flightDuration',ascending=False).iloc[0]['tailNumber'])\n",
    "print('departure_time ',df[df['flightType']=='I'].sort_values(by='flightDuration',ascending=False).iloc[0]['departure_time'])\n",
    "print('czas trwania w minutach: ', df[df['flightType']=='I'].sort_values(by='flightDuration',ascending=False).iloc[0]['flightDuration'])"
   ]
  },
  {
   "cell_type": "code",
   "execution_count": null,
   "id": "44e37837",
   "metadata": {},
   "outputs": [],
   "source": []
  },
  {
   "cell_type": "markdown",
   "id": "c13cf691",
   "metadata": {
    "scrolled": false
   },
   "source": [
    "4. (punkt opcjonalny) Ile jest błędnych rekordów opisujących loty, które wskazują, że samolot wykonywał więcej niż jeden lot jednocześnie? Wyświetl wszystkie pary takich konfliktowych lotów."
   ]
  },
  {
   "cell_type": "code",
   "execution_count": 14,
   "id": "3942a683",
   "metadata": {},
   "outputs": [],
   "source": [
    "#converting datestamps to datetime object"
   ]
  },
  {
   "cell_type": "code",
   "execution_count": 15,
   "id": "c18b23dd",
   "metadata": {},
   "outputs": [],
   "source": [
    "from datetime import datetime\n",
    "df['departure_time'] = df['departure_time'].apply(lambda ts:datetime.strptime(str(ts), \"%Y-%m-%d %H:%M:%S\")) "
   ]
  },
  {
   "cell_type": "code",
   "execution_count": 16,
   "id": "68f47ce9",
   "metadata": {},
   "outputs": [],
   "source": [
    "df['landing_time'] = df['landing_time'].apply(lambda ts:datetime.strptime(str(ts), \"%Y-%m-%d %H:%M:%S\")) "
   ]
  },
  {
   "cell_type": "code",
   "execution_count": null,
   "id": "ca244a82",
   "metadata": {},
   "outputs": [],
   "source": []
  },
  {
   "cell_type": "code",
   "execution_count": 17,
   "id": "cf218d01",
   "metadata": {
    "scrolled": true
   },
   "outputs": [],
   "source": [
    "def collision_check(df):\n",
    "    \n",
    "    #creating a list of colisions\n",
    "    fligts_colision = []\n",
    "\n",
    "    \n",
    "    for plane in df['tailNumber'].unique():\n",
    "\n",
    "        df_tN = df[df['tailNumber']==plane][['id','tailNumber','departure_time','landing_time']]\n",
    "        num_of_flights = df_tN.shape[0]\n",
    "\n",
    "        #for every flight\n",
    "        for i in range(num_of_flights-1):\n",
    "            dept_time_i = df_tN['departure_time'].iloc[i]\n",
    "            land_time_i = df_tN['landing_time'].iloc[i]\n",
    "            flight_id_i = df_tN['id'].iloc[i]\n",
    "            \n",
    "            #checking all other flights \n",
    "            for j in range(i+1,num_of_flights-1):\n",
    "                dept_time_j = df_tN['departure_time'].iloc[j]\n",
    "                land_time_j = df_tN['landing_time'].iloc[j]\n",
    "                flight_id_j = df_tN['id'].iloc[j]\n",
    "\n",
    "                # if a flight 'j' started or landed during other flight 'i' (after i started and before i landed)\n",
    "                # both numbers are added to 'fligts_colision' list as a list\n",
    "                if dept_time_i <= dept_time_j <= land_time_i or dept_time_i <= land_time_j <= land_time_i:\n",
    "                    fligts_colision.append([flight_id_i,flight_id_j])\n",
    "                else:\n",
    "                    pass\n",
    "\n",
    "    return fligts_colision"
   ]
  },
  {
   "cell_type": "code",
   "execution_count": 18,
   "id": "7a94cddc",
   "metadata": {},
   "outputs": [
    {
     "data": {
      "text/plain": [
       "[[384, 499]]"
      ]
     },
     "execution_count": 18,
     "metadata": {},
     "output_type": "execute_result"
    }
   ],
   "source": [
    "collision_check(df)"
   ]
  },
  {
   "cell_type": "code",
   "execution_count": null,
   "id": "449a334f",
   "metadata": {},
   "outputs": [],
   "source": []
  },
  {
   "cell_type": "code",
   "execution_count": 19,
   "id": "626742d8",
   "metadata": {},
   "outputs": [],
   "source": [
    "#check- flight 499 departed before 384 landed: "
   ]
  },
  {
   "cell_type": "code",
   "execution_count": 20,
   "id": "15eb7146",
   "metadata": {},
   "outputs": [
    {
     "data": {
      "text/plain": [
       "id                                          384\n",
       "tailNumber                               A6-ECS\n",
       "source_airport_code                         ATH\n",
       "source_country_code                         GRC\n",
       "destination_airport_code                    DXB\n",
       "destination_country_code                    ARE\n",
       "departure_time              2021-11-30 15:45:00\n",
       "landing_time                2021-11-30 19:59:00\n",
       "flightDuration                              254\n",
       "flightType                                    I\n",
       "Name: 384, dtype: object"
      ]
     },
     "execution_count": 20,
     "metadata": {},
     "output_type": "execute_result"
    }
   ],
   "source": [
    "df.iloc[384]"
   ]
  },
  {
   "cell_type": "code",
   "execution_count": 21,
   "id": "d91c9c0c",
   "metadata": {},
   "outputs": [
    {
     "data": {
      "text/plain": [
       "id                                          499\n",
       "tailNumber                               A6-ECS\n",
       "source_airport_code                         EWR\n",
       "source_country_code                         USA\n",
       "destination_airport_code                    ATH\n",
       "destination_country_code                    GRC\n",
       "departure_time              2021-11-30 05:14:44\n",
       "landing_time                2021-11-30 15:50:00\n",
       "flightDuration                              635\n",
       "flightType                                    I\n",
       "Name: 499, dtype: object"
      ]
     },
     "execution_count": 21,
     "metadata": {},
     "output_type": "execute_result"
    }
   ],
   "source": [
    "df.iloc[499]"
   ]
  },
  {
   "cell_type": "code",
   "execution_count": null,
   "id": "6b98abdf",
   "metadata": {},
   "outputs": [],
   "source": []
  },
  {
   "cell_type": "markdown",
   "id": "5abf65aa",
   "metadata": {},
   "source": [
    "5. (punkt opcjonalny) Odstęp pomiędzy którymi lotami tego samego dowolnego samolotu był najkrótszy i ile minut trwał? "
   ]
  },
  {
   "cell_type": "code",
   "execution_count": 22,
   "id": "5b01ebef",
   "metadata": {},
   "outputs": [],
   "source": [
    "def min_pause(df, plane):\n",
    "    \n",
    "    #choosing flights for given plane and sorting chronologically\n",
    "    df_tN = df[df['tailNumber']==plane][['id','tailNumber','departure_time','landing_time']]\n",
    "    df_tN.sort_values(by='departure_time',ascending=True, inplace=True)\n",
    "    \n",
    "    #new columns with landing time of the previous flight and its id\n",
    "    df_tN['previous_landing_time'] = df_tN['landing_time'].shift(1)\n",
    "    \n",
    "    df_tN['id'] = df_tN['id'].apply(lambda x:str(x))\n",
    "    df_tN['previous_id'] = df_tN['id'].shift(1)\n",
    "\n",
    "    #calculating pause and converting into minutes\n",
    "    df_tN['pause_in_minutes'] = df['departure_time']-df_tN['previous_landing_time']\n",
    "    df_tN['pause_in_minutes'].iloc[1:] = df_tN['pause_in_minutes'].iloc[1:].apply(lambda td:round(td.seconds/60))\n",
    "\n",
    "    #choosing the shortest pause and corresponding flights\n",
    "    shortest_pause_duration = df_tN['pause_in_minutes'].min()\n",
    "    id_after_shortest_pause = df_tN[df_tN['pause_in_minutes']==shortest_pause_duration]['id'].values[0]\n",
    "    id_before_shortest_pause = df_tN[df_tN['pause_in_minutes']==shortest_pause_duration]['previous_id'].values[0]\n",
    "\n",
    "    #printing the output\n",
    "    print(f'The shortest pause for the aeroplane {plane} was after flight no. {id_before_shortest_pause}, ', end='')  \n",
    "    print(f'before flight no. {id_after_shortest_pause} and lasted for {shortest_pause_duration} minutes')"
   ]
  },
  {
   "cell_type": "code",
   "execution_count": 24,
   "id": "d24fd4fb",
   "metadata": {},
   "outputs": [
    {
     "name": "stdout",
     "output_type": "stream",
     "text": [
      "The shortest pause for the aeroplane A6-ECS was after flight no. 349, before flight no. 206 and lasted for 150 minutes\n"
     ]
    }
   ],
   "source": [
    "min_pause(df,'A6-ECS')"
   ]
  },
  {
   "cell_type": "code",
   "execution_count": null,
   "id": "eaed8fcc",
   "metadata": {},
   "outputs": [],
   "source": []
  }
 ],
 "metadata": {
  "kernelspec": {
   "display_name": "Python 3",
   "language": "python",
   "name": "python3"
  },
  "language_info": {
   "codemirror_mode": {
    "name": "ipython",
    "version": 3
   },
   "file_extension": ".py",
   "mimetype": "text/x-python",
   "name": "python",
   "nbconvert_exporter": "python",
   "pygments_lexer": "ipython3",
   "version": "3.8.8"
  }
 },
 "nbformat": 4,
 "nbformat_minor": 5
}
